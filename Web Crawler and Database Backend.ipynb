{
 "cells": [
  {
   "cell_type": "code",
   "execution_count": 1,
   "metadata": {},
   "outputs": [],
   "source": [
    "# -*- coding: utf-8 -*-"
   ]
  },
  {
   "cell_type": "code",
   "execution_count": 2,
   "metadata": {},
   "outputs": [
    {
     "name": "stdout",
     "output_type": "stream",
     "text": [
      "Requirement already satisfied: beautifulsoup4 in c:\\users\\marwan eid\\appdata\\local\\packages\\pythonsoftwarefoundation.python.3.8_qbz5n2kfra8p0\\localcache\\local-packages\\python38\\site-packages (4.9.3)\n",
      "Requirement already satisfied: soupsieve>1.2; python_version >= \"3.0\" in c:\\users\\marwan eid\\appdata\\local\\packages\\pythonsoftwarefoundation.python.3.8_qbz5n2kfra8p0\\localcache\\local-packages\\python38\\site-packages (from beautifulsoup4) (2.2.1)\n"
     ]
    },
    {
     "name": "stderr",
     "output_type": "stream",
     "text": [
      "WARNING: You are using pip version 20.2.3; however, version 21.1.1 is available.\n",
      "You should consider upgrading via the 'C:\\Users\\Marwan Eid\\AppData\\Local\\Microsoft\\WindowsApps\\PythonSoftwareFoundation.Python.3.8_qbz5n2kfra8p0\\python.exe -m pip install --upgrade pip' command.\n"
     ]
    },
    {
     "name": "stdout",
     "output_type": "stream",
     "text": [
      "Requirement already satisfied: mysqlclient in c:\\programdata\\anaconda3\\lib\\site-packages (2.0.3)\n"
     ]
    },
    {
     "name": "stderr",
     "output_type": "stream",
     "text": [
      "WARNING: pip is being invoked by an old script wrapper. This will fail in a future version of pip.\n",
      "Please see https://github.com/pypa/pip/issues/5599 for advice on fixing the underlying issue.\n",
      "To avoid this problem you can invoke Python with '-m pip' instead of running pip directly.\n",
      "WARNING: You are using pip version 20.2.4; however, version 21.1.1 is available.\n",
      "You should consider upgrading via the 'C:\\ProgramData\\Anaconda3\\python.exe -m pip install --upgrade pip' command.\n"
     ]
    },
    {
     "name": "stdout",
     "output_type": "stream",
     "text": [
      "Requirement already satisfied: mysql-connector-python-rf in c:\\programdata\\anaconda3\\lib\\site-packages (2.2.2)\n"
     ]
    },
    {
     "name": "stderr",
     "output_type": "stream",
     "text": [
      "WARNING: pip is being invoked by an old script wrapper. This will fail in a future version of pip.\n",
      "Please see https://github.com/pypa/pip/issues/5599 for advice on fixing the underlying issue.\n",
      "To avoid this problem you can invoke Python with '-m pip' instead of running pip directly.\n",
      "WARNING: You are using pip version 20.2.4; however, version 21.1.1 is available.\n",
      "You should consider upgrading via the 'C:\\ProgramData\\Anaconda3\\python.exe -m pip install --upgrade pip' command.\n"
     ]
    }
   ],
   "source": [
    "!pip3 install beautifulsoup4\n",
    "!pip install mysqlclient\n",
    "!pip install mysql-connector-python-rf"
   ]
  },
  {
   "cell_type": "code",
   "execution_count": 3,
   "metadata": {},
   "outputs": [],
   "source": [
    "import datetime\n",
    "import MySQLdb\n",
    "import numpy as np\n",
    "import pandas as pd\n",
    "import re\n",
    "import requests\n",
    "from bs4 import BeautifulSoup\n",
    "from collections import defaultdict\n",
    "import concurrent.futures\n",
    "from concurrent.futures import Future \n",
    "from concurrent.futures import ProcessPoolExecutor\n",
    "from concurrent.futures import ThreadPoolExecutor\n",
    "%matplotlib inline"
   ]
  },
  {
   "cell_type": "code",
   "execution_count": 4,
   "metadata": {},
   "outputs": [],
   "source": [
    "def debugging():\n",
    "    print(\"Including nulls too; just making sure sizes match!\")\n",
    "    print(\"No. of pages->\", len(pages_contents))\n",
    "    print(\"No. of movies->\", len(movies_contents))\n",
    "    print(\"No. of occurances of existence of actors in movies->\", len(actors_contents))\n",
    "    print(\"No. of cast members->\", len(cast_contents))\n",
    "    print(\"No. of movie names->\", len(m_name))\n",
    "    print(\"No. of movie durations->\", len(m_duration))\n",
    "    print(\"No. of movie ratings->\", len(m_rating))\n",
    "    print(\"No. of movie release_dates->\", len(m_release_date))\n",
    "    print(\"No. of movie storylines->\", len(m_storyline))\n",
    "    print(\"No. of movie revenues->\", len(m_revenue))\n",
    "    print(\"No. of movie genres->\", len(m_genres))\n",
    "    print(\"No. of movie directors->\", len(m_director_ID))\n",
    "    print(\"No. of movie writers->\", len(m_writer_ID))\n",
    "    print(\"No. of cast members\", len(cm_ids))\n",
    "    print(\"No. of cast first names\", len(cm_first_name))\n",
    "    print(\"No. of cast last names\", len(cm_last_name))\n",
    "    print(\"No. of cast biography\", len(cm_biography))\n",
    "    print(\"No. of cast birthdate\", len(cm_birthdate))\n",
    "    print(\"No. of cast nationality\", len(cm_nationality))"
   ]
  },
  {
   "cell_type": "code",
   "execution_count": 5,
   "metadata": {},
   "outputs": [],
   "source": [
    "def retrieve_one_page_content(pageNo):\n",
    "    return requests.get(\"https://elcinema.com/en/index/work/country/eg?page=\"+str(pageNo)).content"
   ]
  },
  {
   "cell_type": "code",
   "execution_count": 6,
   "metadata": {},
   "outputs": [],
   "source": [
    "def retrieve_all_pages_contents():\n",
    "    with concurrent.futures.ThreadPoolExecutor(max_workers=5) as executor:\n",
    "        future_to_url = {executor.submit(retrieve_one_page_content, pageNo): pageNo for pageNo in range(5, 105)}\n",
    "        for future in concurrent.futures.as_completed(future_to_url):\n",
    "            url = future_to_url[future]\n",
    "            try:\n",
    "                data = future.result()\n",
    "                pages_contents.append(data)\n",
    "            except Exception as exc:\n",
    "                print('%r generated an exception: %s' % (url, exc))\n",
    "            else:\n",
    "                pass"
   ]
  },
  {
   "cell_type": "code",
   "execution_count": 7,
   "metadata": {},
   "outputs": [],
   "source": [
    "def retrieve_movies_urls_from_contents():\n",
    "    for i in range(len(pages_contents)):\n",
    "        soup = BeautifulSoup(pages_contents[i], 'html5lib')\n",
    "        for movie in soup.findAll(string=re.compile(\"Movie\")):\n",
    "            for link in movie.find_parents(\"tr\"):\n",
    "                if (link.a['href'] != \"/en/work/2012305/\"):\n",
    "                    movies_urls.append(\"https://elcinema.com\" + link.a['href'])"
   ]
  },
  {
   "cell_type": "code",
   "execution_count": 8,
   "metadata": {},
   "outputs": [],
   "source": [
    "def list_duplicates(seq):\n",
    "    tally = defaultdict(list)\n",
    "    for index, item in enumerate(seq):\n",
    "        tally[item].append(index)\n",
    "    return ((key,locs) for key,locs in tally.items() if len(locs) > 1)"
   ]
  },
  {
   "cell_type": "code",
   "execution_count": 9,
   "metadata": {},
   "outputs": [],
   "source": [
    "def retrieve_one_movie_content(murl):\n",
    "    return requests.get(murl).content"
   ]
  },
  {
   "cell_type": "code",
   "execution_count": 10,
   "metadata": {},
   "outputs": [],
   "source": [
    "def retrieve_all_movies_contents():\n",
    "    with concurrent.futures.ThreadPoolExecutor(max_workers=5) as executor:\n",
    "        future_to_url = {executor.submit(retrieve_one_movie_content, murl): murl for murl in movies_urls}\n",
    "        for future in concurrent.futures.as_completed(future_to_url):\n",
    "            url = future_to_url[future]\n",
    "            try:\n",
    "                data = future.result()\n",
    "                movies_contents.append(data)\n",
    "            except Exception as exc:\n",
    "                print('%r generated an exception: %s' % (url, exc))\n",
    "            else:\n",
    "                pass"
   ]
  },
  {
   "cell_type": "code",
   "execution_count": 11,
   "metadata": {},
   "outputs": [],
   "source": [
    "def retrieve_movies_attributes_from_contents():\n",
    "    for i in range(len(movies_contents)):\n",
    "        soup = BeautifulSoup(movies_contents[i], 'html5lib')\n",
    "        duration_flag, rating_flag, release_date_flag, revenue_flag, storyline_flag, genres_flag, director_flag, writer_flag = False, False, False, False, False, False, False, False\n",
    "        link = soup.find_all(href=True)\n",
    "        m_IDs.append(int(link[1]['href'][-8:-1]))\n",
    "        for item in soup.find_all(attrs={'class': 'panel jumbo'}):\n",
    "            name = item.find('span', attrs={'class':'left'})\n",
    "            if (name != None):\n",
    "                name = name.text\n",
    "                m_name.append(name.strip(' \\n\\t\\r'))\n",
    "            else:\n",
    "                m_name.append(None)\n",
    "        for item in soup.find_all(attrs={'class': 'intro-box'}):\n",
    "            date = None\n",
    "            for index4, item1 in enumerate(item.find_all(attrs={'class': 'list-separator list-title'})):\n",
    "                if (index4 == 0):\n",
    "                    for index5, child5 in enumerate(item1.find_all('li')):\n",
    "                        if (index5 == 0):\n",
    "                            if (str(child5.text) != \"Director:\"):\n",
    "                                break\n",
    "                        elif (index5 == 1):\n",
    "                            dir_id = str(child5.a['href'])[-8:-1]\n",
    "                            m_director_ID.append(dir_id)\n",
    "                            director_flag = True\n",
    "                elif (index4 == 1):\n",
    "                    for index5, child5 in enumerate(item1.find_all('li')):\n",
    "                        if (index5 == 0):\n",
    "                            if (str(child5.text) != \"Writer:\"):\n",
    "                                break\n",
    "                        elif (index5 == 1):\n",
    "                            w_id = str(child5.a['href'])[-8:-1]\n",
    "                            m_writer_ID.append(w_id)\n",
    "                            writer_flag = True\n",
    "            for item1 in item.find_all(attrs={'class': 'columns small-9 large-10'}):\n",
    "                for index1, ultag in enumerate(item1.find_all('ul', {'class': 'list-separator'})):\n",
    "                    if (index1 == 0):\n",
    "                        for index2, litag in enumerate(ultag.find_all('li')):\n",
    "                            if (index2 == 2):\n",
    "                                m_duration.append(litag.text.strip(' \\n\\t\\r'))\n",
    "                                duration_flag = True\n",
    "                            if (index2 == 4):\n",
    "                                for index3, litag2 in enumerate(litag.find_all('li')):\n",
    "                                    if (index3 == 1):\n",
    "                                        m_rating.append(litag2.text.strip(' \\n\\t\\r'))\n",
    "                                        rating_flag = True\n",
    "                    elif (index1 == 1):\n",
    "                        for index2, litag in enumerate(ultag.find_all('li')):\n",
    "                            if (index2 == 0):\n",
    "                                for index2, litag in enumerate(ultag.find_all(string=re.compile(\"Release Date:\"))):\n",
    "                                    if (release_date_flag == False):\n",
    "                                        m_release_date.append(litag.parent.text.split(\"\\n\")[2].strip(\" \\n\\t\\r\"))\n",
    "                                        release_date_flag = True\n",
    "        for index, item in enumerate(soup.find_all('p', attrs={'class': None})):\n",
    "            if (index == 1):\n",
    "                if (item != None):\n",
    "                    m_storyline.append(item.text.strip(' \\n\\t\\r').replace('...Read more', ''))\n",
    "            else:\n",
    "                m_storyline.append(None)\n",
    "                storyline_flag = True\n",
    "        for child in soup.find_all(string=re.compile(\"Genre:\")):\n",
    "            genre = []\n",
    "            if(child.parent.text == \"Genre:\"):\n",
    "                for index2, child2 in enumerate(child.parent.parent.find_all('li')):\n",
    "                    if (index2 != 0):\n",
    "                        genre.append(child2.text.strip(' \\n\\t\\r'))\n",
    "                m_genres.append(genre)\n",
    "                genres_flag = True\n",
    "        for child in soup.find_all(string=re.compile(\"Box Office:\")):\n",
    "            m_revenue.append(int(str(child.parent.find_next_sibling('li').text).replace(\"(more)\", \"\").strip(' \\n\\t\\r').replace(\",\", \"\")))\n",
    "            revenue_flag = True\n",
    "        if (duration_flag == False):\n",
    "            m_duration.append(None)\n",
    "        if (rating_flag == False):\n",
    "            m_rating.append(None)\n",
    "        if (release_date_flag == False):\n",
    "            m_release_date.append(None)\n",
    "        if (storyline_flag == False):\n",
    "            m_storyline.append(None)\n",
    "        if (revenue_flag == False):\n",
    "            m_revenue.append(None)\n",
    "        if (genres_flag == False):\n",
    "            m_genres.append(None)\n",
    "        if (director_flag == False):\n",
    "            m_director_ID.append(None)\n",
    "        if (writer_flag == False):\n",
    "            m_writer_ID.append(None)"
   ]
  },
  {
   "cell_type": "code",
   "execution_count": 12,
   "metadata": {},
   "outputs": [],
   "source": [
    "def retrieve_one_movie_actors_content(m_ids):\n",
    "    actor_url = \"https://elcinema.com/en/work/\" + str(m_ids) + \"/cast\"\n",
    "    return requests.get(actor_url).content"
   ]
  },
  {
   "cell_type": "code",
   "execution_count": 13,
   "metadata": {},
   "outputs": [],
   "source": [
    "def retrieve_all_movies_actors_contents():\n",
    "    with concurrent.futures.ThreadPoolExecutor(max_workers=5) as executor:\n",
    "        future_to_url = {executor.submit(retrieve_one_movie_actors_content, m_ids): m_ids for m_ids in m_IDs}\n",
    "        for future in concurrent.futures.as_completed(future_to_url):\n",
    "            url = future_to_url[future]\n",
    "            try:\n",
    "                data = future.result()\n",
    "                actors_contents.append(data)\n",
    "            except Exception as exc:\n",
    "                print('%r generated an exception: %s' % (url, exc))\n",
    "            else:\n",
    "                pass"
   ]
  },
  {
   "cell_type": "code",
   "execution_count": 14,
   "metadata": {},
   "outputs": [],
   "source": [
    "def retrieve_actors_ids_from_contents():\n",
    "    for i in range(len(actors_contents)):\n",
    "        soup = BeautifulSoup(actors_contents[i])\n",
    "        flag = False\n",
    "        actors_ids = []\n",
    "        for item in soup.find_all(string=re.compile(\"Actor\")):\n",
    "            w = item.parent.parent.find_next_sibling('div')\n",
    "            if (w is not None):\n",
    "                for x in w.find_all(attrs={'class': 'description'}):\n",
    "                    actors_ids.append(x.find_all(\"li\")[0].a['href'][-8:-1])\n",
    "                flag = True\n",
    "        if (flag == False):\n",
    "            actors_ids.append(None)\n",
    "        movie_actor_a_id.append(actors_ids)"
   ]
  },
  {
   "cell_type": "code",
   "execution_count": 15,
   "metadata": {},
   "outputs": [],
   "source": [
    "def retrieve_one_castm_content(curl):\n",
    "    return requests.get(curl).content"
   ]
  },
  {
   "cell_type": "code",
   "execution_count": 16,
   "metadata": {},
   "outputs": [],
   "source": [
    "def retrieve_all_castm_contents():\n",
    "    with concurrent.futures.ThreadPoolExecutor(max_workers=5) as executor:\n",
    "        future_to_url = {executor.submit(retrieve_one_castm_content, curl): curl for curl in cast_urls}\n",
    "        for future in concurrent.futures.as_completed(future_to_url):\n",
    "            url = future_to_url[future]\n",
    "            try:\n",
    "                data = future.result()\n",
    "                cast_contents.append(data)\n",
    "            except Exception as exc:\n",
    "                print('%r generated an exception: %s' % (url, exc))\n",
    "            else:\n",
    "                pass"
   ]
  },
  {
   "cell_type": "code",
   "execution_count": 17,
   "metadata": {},
   "outputs": [],
   "source": [
    "def retrieve_cast_attributes_from_contents():\n",
    "    for i in range(len(cast_contents)):\n",
    "        soup = BeautifulSoup(cast_contents[i], 'html5lib')\n",
    "        link = soup.find_all(href=True)\n",
    "        cm_IDs.append(int(link[1]['href'][-8:-1]))\n",
    "        biography_flag, birthdate_flag, nationality_flag = False, False, False\n",
    "        for item in soup.find_all(attrs={'class': 'panel jumbo'}):\n",
    "            name = item.find('span', attrs={'class':'left'})\n",
    "            if (name != None):\n",
    "                name = name.text.strip(' \\n\\t\\r').split(\" \", 1)\n",
    "                if (len(name) == 0):\n",
    "                    fname = None\n",
    "                elif (len(name) == 1):\n",
    "                    fname = name[0]\n",
    "                    lname = None\n",
    "                if (len(name) > 1):\n",
    "                    fname = name[0]\n",
    "                    lname = name[1]\n",
    "            cm_first_name.append(fname)\n",
    "            cm_last_name.append(lname)\n",
    "        for item in soup.find_all(attrs={'class': 'intro-box'}):\n",
    "            for item3 in item.find_all(attrs={'class': 'columns medium-9 large-5'}):\n",
    "                for item4 in item3.find_all(attrs={'class': 'no-margin'}):\n",
    "                    if (item4 is not None):\n",
    "                        cm_biography.append(item4.text)\n",
    "                        biography_flag = True\n",
    "            for item1 in item.find_all(attrs={'class': 'list-separator list-title'}):\n",
    "                not_birthdate, not_nationality = False, False\n",
    "                for index, item2 in enumerate(item1.find_all('li')):\n",
    "                    if (index == 0):\n",
    "                        if (str(item2.text) != \"Date of Birth:\"):\n",
    "                            not_birthdate = True\n",
    "                        if (str(item2.text) != \"Nationality:\"):\n",
    "                            not_nationality = True\n",
    "                    elif (index == 1):\n",
    "                        if (not_birthdate == False):\n",
    "                            cm_birthdate.append(item2.text.strip(' \\n\\t\\r'))\n",
    "                            birthdate_flag = True\n",
    "                        elif (not_nationality == False):\n",
    "                            cm_nationality.append(item2.text.strip(' \\n\\t\\r'))\n",
    "                            nationality_flag = True\n",
    "        if (biography_flag == False):\n",
    "            cm_biography.append(None)\n",
    "        if (birthdate_flag == False):\n",
    "            cm_birthdate.append(None)\n",
    "        if (nationality_flag == False):\n",
    "            cm_nationality.append(None)"
   ]
  },
  {
   "cell_type": "code",
   "execution_count": 18,
   "metadata": {},
   "outputs": [],
   "source": [
    "def preprocessing():\n",
    "    for i in range(len(m_release_date)):\n",
    "        if (m_release_date[i] is not None and m_release_date[i] != \"None\"):\n",
    "            temp = m_release_date[i].split(\" \")\n",
    "            if (len(temp) == 3):\n",
    "                if (int(temp[0]) < 10):\n",
    "                    temp[0] = \"0\" + temp[0]\n",
    "                if (int(temp[2]) < 10):\n",
    "                    temp[2] = \"0\" + temp[2]\n",
    "                temp = temp[0] + temp[1] + temp[2]\n",
    "            else:\n",
    "                temp = temp[0]\n",
    "            m_release_date[i] = temp.strip(' \\n\\t').replace(\" \", \"\").replace(\"-\",\"\").replace(\"January\", \"01\").replace(\"February\", \"02\").replace(\"March\", \"03\").replace(\"April\", \"04\").replace(\"May\", \"05\").replace(\"June\", \"06\").replace(\"July\", \"07\").replace(\"August\", \"08\").replace(\"September\", \"09\").replace(\"October\", \"10\").replace(\"November\", \"11\").replace(\"December\", \"12\")\n",
    "            try:\n",
    "                m_release_date[i] = datetime.datetime.strptime(m_release_date[i], '%Y%m%d').date()\n",
    "            except:\n",
    "                m_release_date[i] = datetime.datetime.strptime(m_release_date[i], '%d%m%Y').date()\n",
    "    for i in range(len(cm_birthdate)):\n",
    "        if (cm_birthdate[i] is not None and cm_birthdate[i]  != \"None\"):\n",
    "            temp = cm_birthdate[i].split(\" \")\n",
    "            if (len(temp) == 3):\n",
    "                if (int(temp[0]) < 10):\n",
    "                    temp[0] = \"0\" + temp[0]\n",
    "                if (int(temp[2]) < 10):\n",
    "                    temp[2] = \"0\" + temp[2]\n",
    "                temp = temp[0] + temp[1] + temp[2]\n",
    "            else:\n",
    "                temp = temp[0]\n",
    "            cm_birthdate[i] = temp.strip(' \\n\\t').replace(\" \", \"\").replace(\"-\",\"\").replace(\"January\", \"01\").replace(\"February\", \"02\").replace(\"March\", \"03\").replace(\"April\", \"04\").replace(\"May\", \"05\").replace(\"June\", \"06\").replace(\"July\", \"07\").replace(\"August\", \"08\").replace(\"September\", \"09\").replace(\"October\", \"10\").replace(\"November\", \"11\").replace(\"December\", \"12\")\n",
    "            try:\n",
    "                cm_birthdate[i] = datetime.datetime.strptime(cm_birthdate[i], '%Y%m%d').date()\n",
    "            except:\n",
    "                cm_birthdate[i] = datetime.datetime.strptime(cm_birthdate[i], '%d%m%Y').date()\n",
    "    for i in range(len(m_duration)):\n",
    "        m_duration[i] = m_duration[i].split(\" \")[0] if m_duration[i] is not None else None\n",
    "        m_duration[i] = None if m_duration[i] is not None and m_duration[i].lower().islower() else m_duration[i]\n",
    "        m_duration[i] = int(m_duration[i]) if m_duration[i] is not None else None"
   ]
  },
  {
   "cell_type": "code",
   "execution_count": 19,
   "metadata": {},
   "outputs": [],
   "source": [
    "def truncate_tables():\n",
    "    try:\n",
    "        db_connection = MySQLdb.connect(\"sql11.freemysqlhosting.net\", \"sql11410479\", \"cSMqvaXALm\", \"sql11410479\", charset = \"utf8\")\n",
    "    except:\n",
    "        print(\"Can't connect to database\")\n",
    "        return 0\n",
    "    print(\"Connected\")\n",
    "    cursor = db_connection.cursor()\n",
    "    cursor.execute(\"SET FOREIGN_KEY_CHECKS = 0\")\n",
    "    cursor.execute(\"Truncate TABLE movies_genres\")\n",
    "    cursor.execute(\"Truncate TABLE movies_actors\")\n",
    "    cursor.execute(\"Truncate TABLE movie\")\n",
    "    cursor.execute(\"Truncate TABLE cast_member\")\n",
    "    cursor.execute(\"SET FOREIGN_KEY_CHECKS = 1\")\n",
    "    db_connection.commit()\n",
    "    db_connection.close()"
   ]
  },
  {
   "cell_type": "code",
   "execution_count": 20,
   "metadata": {},
   "outputs": [],
   "source": [
    "def delete_duplicates_from_movie_genres():\n",
    "    for i in range(len(m_IDs)):\n",
    "        if (m_genres[i] is not None):\n",
    "            for dup in sorted(list_duplicates(m_genres[i])):\n",
    "                m_genres[i] = [k for n, k in enumerate(m_genres[i]) if k not in m_genres[i][:n]]"
   ]
  },
  {
   "cell_type": "code",
   "execution_count": 21,
   "metadata": {},
   "outputs": [],
   "source": [
    "def fill_cast_member():\n",
    "    try:\n",
    "        db_connection = MySQLdb.connect(\"sql11.freemysqlhosting.net\", \"sql11410479\", \"cSMqvaXALm\", \"sql11410479\", charset = \"utf8\")\n",
    "    except:\n",
    "        print(\"Can't connect to database\")\n",
    "        return 0\n",
    "    print(\"Connected\")\n",
    "    cursor = db_connection.cursor()\n",
    "    sql = \"INSERT INTO cast_member (cm_ID, cm_first_name, cm_last_name, cm_biography, cm_birthdate, cm_nationality) VALUES (%s, %s, %s, %s, %s, %s)\"\n",
    "    for i in range(len(cm_IDs)):\n",
    "        val = (cm_IDs[i], cm_first_name[i], cm_last_name[i], cm_biography[i], cm_birthdate[i], cm_nationality[i])\n",
    "        cursor.execute(sql, val)\n",
    "    db_connection.commit()\n",
    "    print(\"Filled\")\n",
    "    db_connection.close()"
   ]
  },
  {
   "cell_type": "code",
   "execution_count": 22,
   "metadata": {},
   "outputs": [],
   "source": [
    "def fill_movie():\n",
    "    try:\n",
    "        db_connection = MySQLdb.connect(\"sql11.freemysqlhosting.net\", \"sql11410479\", \"cSMqvaXALm\", \"sql11410479\", charset = \"utf8\")\n",
    "    except:\n",
    "        print(\"Can't connect to database\")\n",
    "        return 0\n",
    "    print(\"Connected\")\n",
    "    cursor = db_connection.cursor()\n",
    "    sql = \"INSERT INTO movie (m_ID, m_name, m_duration, m_rating, m_release_date, m_storyline, m_revenue, m_director_ID, m_writer_ID) VALUES (%s, %s, %s, %s, %s, %s, %s, %s, %s)\"\n",
    "    for i in range(len(m_IDs)):\n",
    "        val = (m_IDs[i], m_name[i], m_duration[i], m_rating[i], m_release_date[i], m_storyline[i], m_revenue[i], m_director_ID[i], m_writer_ID[i])\n",
    "        cursor.execute(sql, val)\n",
    "    db_connection.commit()\n",
    "    print(\"Filled\")\n",
    "    db_connection.close()"
   ]
  },
  {
   "cell_type": "code",
   "execution_count": 23,
   "metadata": {},
   "outputs": [],
   "source": [
    "def fill_movies_genres():\n",
    "    try:\n",
    "        db_connection = MySQLdb.connect(\"sql11.freemysqlhosting.net\", \"sql11410479\", \"cSMqvaXALm\", \"sql11410479\", charset = \"utf8\")\n",
    "    except:\n",
    "        print(\"Can't connect to database\")\n",
    "        return 0\n",
    "    print(\"Connected\")\n",
    "    cursor = db_connection.cursor()\n",
    "    sql = \"INSERT INTO movies_genres (m_ID, genre) VALUES (%s, %s)\"\n",
    "    for i in range(len(m_IDs)):\n",
    "        if (m_genres[i] is not None):\n",
    "            for j in range(len(m_genres[i])):\n",
    "                val = (m_IDs[i], m_genres[i][j])\n",
    "                cursor.execute(sql, val)\n",
    "    db_connection.commit()\n",
    "    print(\"Filled\")\n",
    "    db_connection.close()"
   ]
  },
  {
   "cell_type": "code",
   "execution_count": 24,
   "metadata": {},
   "outputs": [],
   "source": [
    "def fill_movies_actors():\n",
    "    try:\n",
    "        db_connection = MySQLdb.connect(\"sql11.freemysqlhosting.net\", \"sql11410479\", \"cSMqvaXALm\", \"sql11410479\", charset = \"utf8\")\n",
    "    except:\n",
    "        print(\"Can't connect to database\")\n",
    "        return 0\n",
    "    print(\"Connected\")\n",
    "    cursor = db_connection.cursor()\n",
    "    sql = \"INSERT INTO movies_actors (m_ID, cm_ID) VALUES (%s, %s)\"\n",
    "    for i in range(len(m_IDs)):\n",
    "        if (movie_actor_a_id[i][0] is not None):\n",
    "            for j in range(len(movie_actor_a_id[i])):\n",
    "                val = (m_IDs[i], movie_actor_a_id[i][j])\n",
    "                cursor.execute(sql, val)\n",
    "    db_connection.commit()\n",
    "    print(\"Filled\")\n",
    "    db_connection.close()"
   ]
  },
  {
   "cell_type": "code",
   "execution_count": 25,
   "metadata": {},
   "outputs": [],
   "source": [
    "def top10_movies_by_revenue():\n",
    "    try:\n",
    "        db_connection = MySQLdb.connect(\"sql11.freemysqlhosting.net\", \"sql11410479\", \"cSMqvaXALm\", \"sql11410479\", charset = \"utf8\")\n",
    "    except:\n",
    "        print(\"Can't connect to database\")\n",
    "        return 0\n",
    "    print(\"Connected\")\n",
    "    cursor = db_connection.cursor()\n",
    "    cursor.execute(\"SELECT m_name, m_duration, m_rating, m_release_date, m_revenue FROM movie ORDER BY m_revenue DESC LIMIT 10\")\n",
    "    m = cursor.fetchall()\n",
    "    params = ['m_name', 'm_duration', 'm_rating', 'm_release_date', 'm_revenue']\n",
    "    df = pd.DataFrame(m, columns=params)\n",
    "    print(df)"
   ]
  },
  {
   "cell_type": "code",
   "execution_count": 27,
   "metadata": {},
   "outputs": [],
   "source": [
    "def find_movie_by_id(ID):\n",
    "    try:\n",
    "        db_connection = MySQLdb.connect(\"sql11.freemysqlhosting.net\", \"sql11410479\", \"cSMqvaXALm\", \"sql11410479\", charset = \"utf8\")\n",
    "    except:\n",
    "        print(\"Can't connect to database\")\n",
    "        return 0\n",
    "    print(\"Connected\")\n",
    "    cursor = db_connection.cursor()\n",
    "    cursor.execute(\"SELECT m_name, m_duration, m_rating, m_release_date, m_storyline, m_revenue, c1.cm_first_name, c1.cm_last_name, c2.cm_first_name, c2.cm_last_name FROM movie INNER JOIN cast_member c1 ON movie.m_director_ID = c1.cm_ID INNER JOIN cast_member c2 ON movie.m_writer_ID = c2.cm_ID WHERE movie.m_ID='%s'\" % ID)\n",
    "    m = cursor.fetchall()\n",
    "    director = m[0][-2] + \" \" + m[0][-1] if m[0][-1] is not None else m[0][-2]\n",
    "    writer = m[0][-4] + \" \" + m[0][-3] if m[0][-3] is not None else m[0][-4]\n",
    "    l = m[0][:-4]\n",
    "    l = list(l)\n",
    "    l.append(director)\n",
    "    l.append(writer)\n",
    "    print(l)"
   ]
  },
  {
   "cell_type": "code",
   "execution_count": 28,
   "metadata": {
    "scrolled": true
   },
   "outputs": [],
   "source": [
    "def find_movie_by_name(name):\n",
    "    try:\n",
    "        db_connection = MySQLdb.connect(\"sql11.freemysqlhosting.net\", \"sql11410479\", \"cSMqvaXALm\", \"sql11410479\", charset = \"utf8\")\n",
    "    except:\n",
    "        print(\"Can't connect to database\")\n",
    "        return 0\n",
    "    print(\"Connected\")\n",
    "    cursor = db_connection.cursor()\n",
    "    cursor.execute(\"SELECT m_name, m_duration, m_rating, m_release_date, m_storyline, m_revenue, c1.cm_first_name, c1.cm_last_name, c2.cm_first_name, c2.cm_last_name FROM movie INNER JOIN cast_member c1 ON movie.m_director_ID = c1.cm_ID INNER JOIN cast_member c2 ON movie.m_writer_ID = c2.cm_ID WHERE movie.m_name='%s'\" % name)\n",
    "    m = cursor.fetchall()\n",
    "    director = m[0][-2] + \" \" + m[0][-1] if m[0][-1] is not None else m[0][-2]\n",
    "    writer = m[0][-4] + \" \" + m[0][-3] if m[0][-3] is not None else m[0][-4]\n",
    "    l = m[0][:-4]\n",
    "    l = list(l)\n",
    "    l.append(director)\n",
    "    l.append(writer)\n",
    "    l = tuple(l)\n",
    "    print(l)"
   ]
  },
  {
   "cell_type": "code",
   "execution_count": 29,
   "metadata": {},
   "outputs": [],
   "source": [
    "def find_cast_member_by_id(ID):\n",
    "    try:\n",
    "        db_connection = MySQLdb.connect(\"sql11.freemysqlhosting.net\", \"sql11410479\", \"cSMqvaXALm\", \"sql11410479\", charset = \"utf8\")\n",
    "    except:\n",
    "        print(\"Can't connect to database\")\n",
    "        return 0\n",
    "    print(\"Connected\")\n",
    "    cursor = db_connection.cursor()\n",
    "    cursor.execute(\"SELECT * FROM cast_member WHERE cm_ID='%s'\" % ID)\n",
    "    m = cursor.fetchall()\n",
    "    name = m[0][1] + \" \" + m[0][2] if m[0][2] is not None else m[0][1]\n",
    "    l = []\n",
    "    l.append(name)\n",
    "    l.append(m[0][3])\n",
    "    l.append(m[0][4])\n",
    "    l.append(m[0][5])\n",
    "    print(l)"
   ]
  },
  {
   "cell_type": "code",
   "execution_count": 30,
   "metadata": {},
   "outputs": [],
   "source": [
    "def find_cast_member_by_name(name):\n",
    "    try:\n",
    "        db_connection = MySQLdb.connect(\"sql11.freemysqlhosting.net\", \"sql11410479\", \"cSMqvaXALm\", \"sql11410479\", charset = \"utf8\")\n",
    "    except:\n",
    "        print(\"Can't connect to database\")\n",
    "        return 0\n",
    "    print(\"Connected\")\n",
    "    first = name.split(\" \")[0]\n",
    "    try:\n",
    "        last = name.split(\" \")[1]\n",
    "    except:\n",
    "        last = None\n",
    "    cursor = db_connection.cursor()\n",
    "    cursor.execute(\"SELECT * FROM cast_member WHERE cm_first_name='%s'\" % first + \" AND cm_last_name='%s'\" % last)\n",
    "    m = cursor.fetchall()\n",
    "    name = m[0][1] + \" \" + m[0][2] if m[0][2] is not None else m[0][2]\n",
    "    l = []\n",
    "    l.append(name)\n",
    "    l.append(m[0][2])\n",
    "    l.append(m[0][3])\n",
    "    l.append(m[0][4])\n",
    "    print(l)"
   ]
  },
  {
   "cell_type": "code",
   "execution_count": 31,
   "metadata": {},
   "outputs": [],
   "source": [
    "def find_unique_genres():\n",
    "    try:\n",
    "        db_connection = MySQLdb.connect(\"sql11.freemysqlhosting.net\", \"sql11410479\", \"cSMqvaXALm\", \"sql11410479\", charset = \"utf8\")\n",
    "    except:\n",
    "        print(\"Can't connect to database\")\n",
    "        return 0\n",
    "    print(\"Connected\")\n",
    "    cursor = db_connection.cursor()\n",
    "    cursor.execute(\"SELECT DISTINCT genre FROM movies_genres\")\n",
    "    m = cursor.fetchall()\n",
    "    print(m)"
   ]
  },
  {
   "cell_type": "code",
   "execution_count": 32,
   "metadata": {},
   "outputs": [],
   "source": [
    "def find_movies_of_a_specific_genre(genre):\n",
    "    try:\n",
    "        db_connection = MySQLdb.connect(\"sql11.freemysqlhosting.net\", \"sql11410479\", \"cSMqvaXALm\", \"sql11410479\", charset = \"utf8\")\n",
    "    except:\n",
    "        print(\"Can't connect to database\")\n",
    "        return 0\n",
    "    print(\"Connected\")\n",
    "    cursor = db_connection.cursor()\n",
    "    cursor.execute(\"SELECT m_name FROM movie INNER JOIN movies_genres ON movie.m_ID=movies_genres.m_ID WHERE movies_genres.genre='%s'\" % genre)\n",
    "    m = cursor.fetchall()\n",
    "    print(m)"
   ]
  },
  {
   "cell_type": "code",
   "execution_count": 131,
   "metadata": {},
   "outputs": [],
   "source": [
    "def find_movies_of_a_cast_member_by_id(ID):\n",
    "    try:\n",
    "        db_connection = MySQLdb.connect(\"sql11.freemysqlhosting.net\", \"sql11410479\", \"cSMqvaXALm\", \"sql11410479\", charset = \"utf8\")\n",
    "    except:\n",
    "        print(\"Can't connect to database\")\n",
    "        return 0\n",
    "    print(\"Connected\")\n",
    "    cursor = db_connection.cursor()\n",
    "    cursor.execute(\"SELECT CM.cm_first_name, CM.cm_last_name, M.m_name, M.m_duration, M.m_release_date, M.m_storyline FROM movies_actors MA JOIN movie M ON MA.m_ID = M.m_ID JOIN cast_member CM ON MA.cm_ID = CM.cm_ID WHERE MA.cm_ID='%s'\" % ID)\n",
    "    m = cursor.fetchall()\n",
    "    name = m[0][0] + \" \" + m[0][1] if m[0][1] is not None else m[0][0]\n",
    "    t = []\n",
    "    for i in range(len(m)):\n",
    "        l = []\n",
    "        l.append(name)\n",
    "        l.append(m[i][2])\n",
    "        l.append(m[i][3])\n",
    "        l.append(m[i][4])\n",
    "        l.append(m[i][5])\n",
    "        t.append(l)\n",
    "    t = tuple(t)\n",
    "    print(t)"
   ]
  },
  {
   "cell_type": "code",
   "execution_count": 110,
   "metadata": {},
   "outputs": [],
   "source": [
    "def find_movies_of_a_cast_member_by_name(name):\n",
    "    try:\n",
    "        db_connection = MySQLdb.connect(\"sql11.freemysqlhosting.net\", \"sql11410479\", \"cSMqvaXALm\", \"sql11410479\", charset = \"utf8\")\n",
    "    except:\n",
    "        print(\"Can't connect to database\")\n",
    "        return 0\n",
    "    print(\"Connected\")\n",
    "    first = name.split(\" \")[0]\n",
    "    try:\n",
    "        last = name.split(\" \")[1]\n",
    "    except:\n",
    "        last = None\n",
    "    cursor = db_connection.cursor()\n",
    "    cursor.execute(\"SELECT M.m_name, M.m_duration, M.m_release_date, M.m_storyline FROM movie M JOIN movies_actors MA ON M.m_ID = MA.m_ID JOIN cast_member CM ON CM.cm_ID=MA.cm_ID WHERE CM.cm_first_name='%s'\" % first + \" AND CM.cm_last_name='%s'\" % last)\n",
    "    m = cursor.fetchall()\n",
    "    t = []\n",
    "    for i in range(len(m)):\n",
    "        l = []\n",
    "        l.append(name)\n",
    "        l.append(m[i][0])\n",
    "        l.append(m[i][1])\n",
    "        l.append(m[i][2])\n",
    "        l.append(m[i][3])\n",
    "        t.append(l)\n",
    "    t = tuple(t)\n",
    "    print(t)"
   ]
  },
  {
   "cell_type": "code",
   "execution_count": 128,
   "metadata": {},
   "outputs": [],
   "source": [
    "def add_user(email_address, username, gender, birthdate):\n",
    "    try:\n",
    "        db_connection = MySQLdb.connect(\"sql11.freemysqlhosting.net\", \"sql11410479\", \"cSMqvaXALm\", \"sql11410479\", charset = \"utf8\")\n",
    "    except:\n",
    "        print(\"Can't connect to database\")\n",
    "        return 0\n",
    "    print(\"Connected\")\n",
    "    cursor = db_connection.cursor()\n",
    "    sql = \"INSERT INTO user (email_address, username, gender, birthdate) VALUES (%s, %s, %s, %s)\"\n",
    "    val = (email_address, username, gender, birthdate)\n",
    "    cursor.execute(sql, val)\n",
    "    db_connection.commit()"
   ]
  },
  {
   "cell_type": "code",
   "execution_count": 134,
   "metadata": {},
   "outputs": [],
   "source": [
    "def add_review_by_movie_id(user_email_address, ID, textual_review):\n",
    "    try:\n",
    "        db_connection = MySQLdb.connect(\"sql11.freemysqlhosting.net\", \"sql11410479\", \"cSMqvaXALm\", \"sql11410479\", charset = \"utf8\")\n",
    "    except:\n",
    "        print(\"Can't connect to database\")\n",
    "        return 0\n",
    "    print(\"Connected\")\n",
    "    cursor = db_connection.cursor()\n",
    "    sql = \"INSERT INTO review (user_email_address, m_ID, textual_review) VALUES (%s, %s, %s)\"\n",
    "    val = (user_email_address, ID, textual_review)\n",
    "    cursor.execute(sql, val)\n",
    "    db_connection.commit()"
   ]
  },
  {
   "cell_type": "code",
   "execution_count": 140,
   "metadata": {},
   "outputs": [],
   "source": [
    "def add_review_by_movie_name(user_email_address, name, textual_review):\n",
    "    try:\n",
    "        db_connection = MySQLdb.connect(\"sql11.freemysqlhosting.net\", \"sql11410479\", \"cSMqvaXALm\", \"sql11410479\", charset = \"utf8\")\n",
    "    except:\n",
    "        print(\"Can't connect to database\")\n",
    "        return 0\n",
    "    print(\"Connected\")\n",
    "    cursor = db_connection.cursor()\n",
    "    cursor.execute(\"SELECT m_ID from movie where m_name='%s'\" % name)\n",
    "    m = cursor.fetchall()\n",
    "    ID = m[0][0]\n",
    "    cursor = db_connection.cursor()\n",
    "    sql = \"INSERT INTO review (user_email_address, m_ID, textual_review) VALUES (%s, %s, %s)\"\n",
    "    val = (user_email_address, ID, textual_review)\n",
    "    cursor.execute(sql, val)\n",
    "    db_connection.commit()"
   ]
  },
  {
   "cell_type": "code",
   "execution_count": 152,
   "metadata": {},
   "outputs": [],
   "source": [
    "def check_review_by_movie_id(ID):\n",
    "    try:\n",
    "        db_connection = MySQLdb.connect(\"sql11.freemysqlhosting.net\", \"sql11410479\", \"cSMqvaXALm\", \"sql11410479\", charset = \"utf8\")\n",
    "    except:\n",
    "        print(\"Can't connect to database\")\n",
    "        return 0\n",
    "    print(\"Connected\")\n",
    "    cursor = db_connection.cursor()\n",
    "    cursor.execute(\"SELECT m_name FROM movie WHERE m_ID='%s'\" % ID)\n",
    "    name = cursor.fetchall()\n",
    "    cursor.execute(\"SELECT user_email_address, textual_review FROM review WHERE review.m_ID='%s'\" % ID)\n",
    "    m = cursor.fetchall()\n",
    "    l = []\n",
    "    for i in range(len(m)):\n",
    "        l = []\n",
    "        l.append(name[0][0])\n",
    "        l.append(m[i][0])\n",
    "        l.append(m[i][1])\n",
    "        print(l)"
   ]
  },
  {
   "cell_type": "code",
   "execution_count": 160,
   "metadata": {},
   "outputs": [],
   "source": [
    "def check_review_by_movie_name(name):\n",
    "    try:\n",
    "        db_connection = MySQLdb.connect(\"sql11.freemysqlhosting.net\", \"sql11410479\", \"cSMqvaXALm\", \"sql11410479\", charset = \"utf8\")\n",
    "    except:\n",
    "        print(\"Can't connect to database\")\n",
    "        return 0\n",
    "    print(\"Connected\")\n",
    "    cursor = db_connection.cursor()\n",
    "    cursor.execute(\"SELECT m_ID from movie where m_name='%s'\" % name)\n",
    "    m = cursor.fetchall()\n",
    "    cursor.execute(\"SELECT user_email_address, textual_review FROM review WHERE review.m_ID='%s'\" % m[0][0])\n",
    "    m = cursor.fetchall()\n",
    "    for i in range(len(m)):\n",
    "        l = []\n",
    "        l.append(name)\n",
    "        l.append(m[i][0])\n",
    "        l.append(m[i][1])\n",
    "        print(l)"
   ]
  },
  {
   "cell_type": "code",
   "execution_count": 35,
   "metadata": {},
   "outputs": [],
   "source": [
    "pages_contents = []"
   ]
  },
  {
   "cell_type": "code",
   "execution_count": 36,
   "metadata": {},
   "outputs": [],
   "source": [
    "movies_contents = []"
   ]
  },
  {
   "cell_type": "code",
   "execution_count": 37,
   "metadata": {},
   "outputs": [],
   "source": [
    "actors_contents = []"
   ]
  },
  {
   "cell_type": "code",
   "execution_count": 38,
   "metadata": {},
   "outputs": [],
   "source": [
    "cast_contents = []"
   ]
  },
  {
   "cell_type": "code",
   "execution_count": 39,
   "metadata": {},
   "outputs": [],
   "source": [
    "movies_urls = []"
   ]
  },
  {
   "cell_type": "code",
   "execution_count": 40,
   "metadata": {},
   "outputs": [],
   "source": [
    "cast_urls = []"
   ]
  },
  {
   "cell_type": "code",
   "execution_count": 41,
   "metadata": {},
   "outputs": [],
   "source": [
    "m_IDs, m_name, m_duration, m_rating, m_release_date, m_storyline, m_revenue, m_genres, m_director_ID, m_writer_ID = [], [], [], [], [], [], [], [], [], []"
   ]
  },
  {
   "cell_type": "code",
   "execution_count": 42,
   "metadata": {},
   "outputs": [],
   "source": [
    "movie_actor_a_id = []"
   ]
  },
  {
   "cell_type": "code",
   "execution_count": 43,
   "metadata": {},
   "outputs": [],
   "source": [
    "cm_ids, cm_urls, cm_IDs, cm_first_name, cm_last_name, cm_biography, cm_birthdate, cm_nationality = [], [], [], [], [], [], [], []"
   ]
  },
  {
   "cell_type": "code",
   "execution_count": 44,
   "metadata": {},
   "outputs": [],
   "source": [
    "movies_table, movies_genres_table, castMembers_table, movies_actors_table = [], [], [], []"
   ]
  },
  {
   "cell_type": "code",
   "execution_count": 45,
   "metadata": {},
   "outputs": [],
   "source": [
    "retrieve_all_pages_contents()"
   ]
  },
  {
   "cell_type": "code",
   "execution_count": 46,
   "metadata": {},
   "outputs": [],
   "source": [
    "retrieve_movies_urls_from_contents()"
   ]
  },
  {
   "cell_type": "code",
   "execution_count": 47,
   "metadata": {
    "scrolled": true
   },
   "outputs": [
    {
     "name": "stdout",
     "output_type": "stream",
     "text": [
      "688 movies\n",
      "Duplicates:\n",
      "('https://elcinema.com/en/work/1010351/', [230, 274])\n",
      "('https://elcinema.com/en/work/2009614/', [609, 630])\n",
      "('https://elcinema.com/en/work/2018611/', [599, 615])\n",
      "('https://elcinema.com/en/work/2018826/', [529, 554])\n",
      "('https://elcinema.com/en/work/2018996/', [530, 552])\n",
      "('https://elcinema.com/en/work/2019219/', [233, 247, 275])\n",
      "('https://elcinema.com/en/work/2020191/', [684, 686])\n",
      "('https://elcinema.com/en/work/2026156/', [225, 246])\n",
      "('https://elcinema.com/en/work/2026544/', [442, 446])\n",
      "('https://elcinema.com/en/work/2028770/', [616, 620, 637])\n",
      "('https://elcinema.com/en/work/2029316/', [490, 493])\n",
      "('https://elcinema.com/en/work/2030327/', [245, 273])\n",
      "('https://elcinema.com/en/work/2033958/', [367, 372])\n",
      "('https://elcinema.com/en/work/2034424/', [226, 268])\n",
      "('https://elcinema.com/en/work/2036658/', [366, 371, 373])\n",
      "('https://elcinema.com/en/work/2039389/', [437, 444])\n",
      "('https://elcinema.com/en/work/2040324/', [282, 303, 310])\n",
      "('https://elcinema.com/en/work/2041312/', [229, 269])\n",
      "('https://elcinema.com/en/work/2041981/', [489, 494])\n",
      "('https://elcinema.com/en/work/2042201/', [167, 171, 173])\n",
      "('https://elcinema.com/en/work/2042523/', [301, 306])\n",
      "('https://elcinema.com/en/work/2042558/', [283, 308])\n",
      "('https://elcinema.com/en/work/2043112/', [231, 272])\n",
      "('https://elcinema.com/en/work/2043126/', [166, 172])\n",
      "('https://elcinema.com/en/work/2046365/', [212, 213])\n",
      "658 movies after deleating duplicates.\n",
      "Duplicates:\n"
     ]
    }
   ],
   "source": [
    "print(len(movies_urls), \"movies\")\n",
    "print(\"Duplicates:\")\n",
    "for dup in sorted(list_duplicates(movies_urls)):\n",
    "    print(dup)\n",
    "movies_urls = [i for n, i in enumerate(movies_urls) if i not in movies_urls[:n]]\n",
    "print(len(movies_urls), \"movies after deleating duplicates.\")\n",
    "print(\"Duplicates:\")\n",
    "for dup in sorted(list_duplicates(movies_urls)):\n",
    "    print(dup)"
   ]
  },
  {
   "cell_type": "code",
   "execution_count": 48,
   "metadata": {},
   "outputs": [],
   "source": [
    "retrieve_all_movies_contents()"
   ]
  },
  {
   "cell_type": "code",
   "execution_count": 49,
   "metadata": {},
   "outputs": [],
   "source": [
    "retrieve_movies_attributes_from_contents()"
   ]
  },
  {
   "cell_type": "code",
   "execution_count": 51,
   "metadata": {},
   "outputs": [],
   "source": [
    "retrieve_all_movies_actors_contents()"
   ]
  },
  {
   "cell_type": "code",
   "execution_count": 52,
   "metadata": {},
   "outputs": [],
   "source": [
    "retrieve_actors_ids_from_contents()"
   ]
  },
  {
   "cell_type": "code",
   "execution_count": 53,
   "metadata": {},
   "outputs": [],
   "source": [
    "cm_ids_temp = m_director_ID + m_writer_ID \n",
    "for a_id in movie_actor_a_id:\n",
    "    if type(a_id) is list:\n",
    "        for item in a_id:\n",
    "            cm_ids_temp.append(item)\n",
    "    else:\n",
    "        cm_ids_temp.append(a_id)\n",
    "cm_ids = [i for i in cm_ids_temp if i]\n",
    "cm_ids = [i for n, i in enumerate(cm_ids) if i not in cm_ids[:n]]\n",
    "cast_urls = [\"https://elcinema.com/en/person/\" + s for s in cm_ids]"
   ]
  },
  {
   "cell_type": "code",
   "execution_count": 54,
   "metadata": {},
   "outputs": [
    {
     "name": "stdout",
     "output_type": "stream",
     "text": [
      "5640\n"
     ]
    }
   ],
   "source": [
    "print(len(cm_ids))"
   ]
  },
  {
   "cell_type": "code",
   "execution_count": 55,
   "metadata": {},
   "outputs": [],
   "source": [
    "retrieve_all_castm_contents()"
   ]
  },
  {
   "cell_type": "code",
   "execution_count": 56,
   "metadata": {},
   "outputs": [],
   "source": [
    "retrieve_cast_attributes_from_contents()"
   ]
  },
  {
   "cell_type": "code",
   "execution_count": 57,
   "metadata": {},
   "outputs": [
    {
     "name": "stdout",
     "output_type": "stream",
     "text": [
      "Including nulls too; just making sure sizes match!\n",
      "No. of pages-> 100\n",
      "No. of movies-> 658\n",
      "No. of occurances of existence of actors in movies-> 658\n",
      "No. of cast members-> 5640\n",
      "No. of movie names-> 658\n",
      "No. of movie durations-> 658\n",
      "No. of movie ratings-> 658\n",
      "No. of movie release_dates-> 658\n",
      "No. of movie storylines-> 1643\n",
      "No. of movie revenues-> 658\n",
      "No. of movie genres-> 658\n",
      "No. of movie directors-> 658\n",
      "No. of movie writers-> 658\n",
      "No. of cast members 5640\n",
      "No. of cast first names 5640\n",
      "No. of cast last names 5640\n",
      "No. of cast biography 5640\n",
      "No. of cast birthdate 5640\n",
      "No. of cast nationality 5640\n"
     ]
    }
   ],
   "source": [
    "debugging()"
   ]
  },
  {
   "cell_type": "code",
   "execution_count": 58,
   "metadata": {},
   "outputs": [],
   "source": [
    "saved_pages_contents = pages_contents\n",
    "saved_movies_contents = movies_contents\n",
    "saved_actors_contents = actors_contents\n",
    "saved_cast_contents = cast_contents\n",
    "saved_movies_urls = movies_urls\n",
    "saved_cast_urls = cast_urls\n",
    "saved_m_name = m_name\n",
    "saved_m_duration = m_duration\n",
    "saved_m_rating = m_rating\n",
    "saved_m_release_date = m_release_date\n",
    "saved_m_storyline = m_storyline\n",
    "saved_m_revenue = m_revenue\n",
    "saved_m_genres = m_genres\n",
    "saved_m_director_ID = m_director_ID\n",
    "saved_m_writer_ID = m_writer_ID\n",
    "saved_movie_actor_a_id = movie_actor_a_id\n",
    "saved_cm_ids = cm_IDs\n",
    "saved_cm_urls = cm_urls\n",
    "saved_cm_first_name = cm_first_name\n",
    "saved_cm_last_name = cm_last_name\n",
    "saved_cm_biography = cm_biography\n",
    "saved_cm_birthdate = cm_birthdate\n",
    "saved_cm_nationality = cm_nationality"
   ]
  },
  {
   "cell_type": "code",
   "execution_count": 59,
   "metadata": {},
   "outputs": [],
   "source": [
    "temp_pages_contents = saved_pages_contents\n",
    "temp_movies_contents = saved_movies_contents\n",
    "temp_actors_contents = saved_actors_contents\n",
    "temp_cast_contents = saved_cast_contents\n",
    "temp_movies_urls = saved_movies_urls\n",
    "temp_cast_urls = saved_cast_urls\n",
    "temp_m_name = saved_m_name\n",
    "temp_m_duration = saved_m_duration\n",
    "temp_m_rating = saved_m_rating\n",
    "temp_m_release_date = saved_m_release_date\n",
    "temp_m_storyline = saved_m_storyline\n",
    "temp_m_revenue = saved_m_revenue\n",
    "temp_m_genres = saved_m_genres\n",
    "temp_m_director_ID = saved_m_director_ID\n",
    "temp_m_writer_ID = saved_m_writer_ID\n",
    "temp_movie_actor_a_id = saved_movie_actor_a_id\n",
    "temp_cm_ids = saved_cm_ids\n",
    "temp_cm_urls = saved_cm_urls\n",
    "temp_cm_first_name = saved_cm_first_name\n",
    "temp_cm_last_name = saved_cm_last_name\n",
    "temp_cm_biography = saved_cm_biography\n",
    "temp_cm_birthdate = saved_cm_birthdate\n",
    "temp_cm_nationality = saved_cm_nationality"
   ]
  },
  {
   "cell_type": "code",
   "execution_count": 60,
   "metadata": {},
   "outputs": [],
   "source": [
    "preprocessing()"
   ]
  },
  {
   "cell_type": "code",
   "execution_count": 61,
   "metadata": {},
   "outputs": [
    {
     "name": "stdout",
     "output_type": "stream",
     "text": [
      "Connected\n"
     ]
    }
   ],
   "source": [
    "truncate_tables()"
   ]
  },
  {
   "cell_type": "code",
   "execution_count": 62,
   "metadata": {},
   "outputs": [
    {
     "name": "stdout",
     "output_type": "stream",
     "text": [
      "Connected\n",
      "Filled\n"
     ]
    }
   ],
   "source": [
    "fill_cast_member()"
   ]
  },
  {
   "cell_type": "code",
   "execution_count": 63,
   "metadata": {},
   "outputs": [
    {
     "name": "stdout",
     "output_type": "stream",
     "text": [
      "Connected\n",
      "Filled\n"
     ]
    }
   ],
   "source": [
    "fill_movie()"
   ]
  },
  {
   "cell_type": "code",
   "execution_count": 64,
   "metadata": {},
   "outputs": [
    {
     "name": "stdout",
     "output_type": "stream",
     "text": [
      "Connected\n",
      "Filled\n"
     ]
    }
   ],
   "source": [
    "fill_movies_actors()"
   ]
  },
  {
   "cell_type": "code",
   "execution_count": 65,
   "metadata": {},
   "outputs": [],
   "source": [
    "delete_duplicates_from_movie_genres()"
   ]
  },
  {
   "cell_type": "code",
   "execution_count": 66,
   "metadata": {},
   "outputs": [
    {
     "name": "stdout",
     "output_type": "stream",
     "text": [
      "Connected\n",
      "Filled\n"
     ]
    }
   ],
   "source": [
    "fill_movies_genres()"
   ]
  },
  {
   "cell_type": "code",
   "execution_count": 67,
   "metadata": {},
   "outputs": [
    {
     "name": "stdout",
     "output_type": "stream",
     "text": [
      "Connected\n",
      "                              m_name m_duration  m_rating m_release_date  \\\n",
      "0                 El Feel El Azraq 2        130         8     2019-07-25   \n",
      "1  Welad Rizk 2: A'wdat Osoud Al-Ard        128        12     2019-08-08   \n",
      "2                         Casablanca        104        12     2019-06-04   \n",
      "3                          El-Mamarr        150         0     2019-06-04   \n",
      "4                           El Badla         96         0     2018-08-20   \n",
      "5             Nadi El-Regal El-Serri        105        12     2019-01-23   \n",
      "6                       Harb Karmooz        116        12     2018-06-16   \n",
      "7                         El-Khaleya        120        12     2017-08-31   \n",
      "8                     Horob Edterary        103        12     2017-06-25   \n",
      "9                           Al-Felos        118         0     2019-12-24   \n",
      "\n",
      "   m_revenue  \n",
      "0  103633291  \n",
      "1  100753422  \n",
      "2   79156808  \n",
      "3   74495223  \n",
      "4   67339111  \n",
      "5   59719314  \n",
      "6   57634545  \n",
      "7   56004004  \n",
      "8   55551644  \n",
      "9   47856702  \n"
     ]
    }
   ],
   "source": [
    "top10_movies_by_revenue()"
   ]
  },
  {
   "cell_type": "code",
   "execution_count": 68,
   "metadata": {},
   "outputs": [
    {
     "name": "stdout",
     "output_type": "stream",
     "text": [
      "Connected\n",
      "['Aman Ya Sahabi', '79', 12, datetime.date(2017, 8, 31), None, 4604152, 'Sayed El Sobky', 'Hany Hamdy']\n"
     ]
    }
   ],
   "source": [
    "find_movie_by_id(\"2047945\")"
   ]
  },
  {
   "cell_type": "code",
   "execution_count": 69,
   "metadata": {},
   "outputs": [
    {
     "name": "stdout",
     "output_type": "stream",
     "text": [
      "Connected\n",
      "('18 Youm', '125', 18, datetime.date(2011, 5, 19), 'In the midst of the chaos of Egypt’s Arab Spring, filmmaker Nada Riyadh falls in love with Ayman. The initial euphoria makes way for doubt, anxiety and blame – a metaphor for the disappointing trajectory of events in Egypt. When Ayman decides to leave the country because of the deteriorating social and political conditions, she does everything she can to convince him to stay. The escalating tension puts her own commitment to remain in the country to the test.', None, 'Sherif Arafa', 'Sherif Arafa')\n"
     ]
    }
   ],
   "source": [
    "find_movie_by_name(\"18 Youm\")"
   ]
  },
  {
   "cell_type": "code",
   "execution_count": 70,
   "metadata": {},
   "outputs": [
    {
     "name": "stdout",
     "output_type": "stream",
     "text": [
      "Connected\n",
      "['Hasan Al-Raddad', 'Hassan is the son of renowned Egyptian actor Nabil el-Raddad and his full name is Hassan Nabil el-Raddad. The actor was born in the city of Port Said and his debut appearance came about as a minor role in the title “Kheyanna Mashrou’a” (“A Legitimate Betrayal”). Thereafter he...Read more assumed a role in the first part of the series “al-Daly” as Bassem al-Daly who was Sa’ad al-Daly’s middle child. He reappeared once again in the second part of that series. The actor made another appearance in the series “Ibn al-Arnadly” where he portrayed ‘Aly al-Arnadly, the son of Yahya al-Fakhran.', datetime.date(1984, 1, 2), 'Egypt']\n"
     ]
    }
   ],
   "source": [
    "find_cast_member_by_id(\"1100178\")"
   ]
  },
  {
   "cell_type": "code",
   "execution_count": 71,
   "metadata": {},
   "outputs": [
    {
     "name": "stdout",
     "output_type": "stream",
     "text": [
      "Connected\n",
      "['Ahmed Helmy', 'Helmy', 'Ahmed Helmy was born in Banha. He graduated from the Higher Institute of Theatrical Arts. He moved to Cairo to pursue a diverse career including interior design and media production. He later on settled on the media path, working as a host for multiple TV programs mainly aired on...Read more Egyptian satellite networks. Following his successful and popular TV run, he ventured into feature films. His first acting job was in \"Aboud Ala Hodood\" (Aboud on the Borders) (1999), which proved to be his huge breakout performance. Since then, Helmy has become a well-established comedian and a leading man. He\\'s starred in \"Omar 2000\" (2000), \"Sahar El Layali\" (Sleepless Nights) (2003), and most recently \"Assal Eswed\" (Black Honey) (2010) and 2013\\'s \"Ala Gothety\" (Over My Dead Body). Ahmed Helmy is married to actress Mona Zaky and they have one daughter, Leila.', datetime.date(1969, 11, 18)]\n"
     ]
    }
   ],
   "source": [
    "find_cast_member_by_name(\"Ahmed Helmy\")"
   ]
  },
  {
   "cell_type": "code",
   "execution_count": 72,
   "metadata": {},
   "outputs": [
    {
     "name": "stdout",
     "output_type": "stream",
     "text": [
      "Connected\n",
      "(('Touti Fruti',), ('El- Haram Street',), ('Tita Rahiba',), ('365 Days of Happiness',), ('Please Call Me',), ('Bibo and Beshir',), ('Fasel Wa Na‘oud',), ('Muhtaram Iila Rubue',), ('Me Or Him',), (\"Banat ElA'm\",), ('EUC',), ('X Large',), ('Al-Rajul Al-Ghamid Bisalamatoh',), ('El Haramy wel Abeet',), ('Assal Eswed',), (\"Wahed Sa'idy\",), ('Lembi 8 Giga',), ('Ibn Alqonsol',), ('Geddo Habiby',), ('Omar wa Salma 3',), ('Cry of An Ant',), ('Ya Tahadi Ya Taadi',), ('Yabani Asli',), ('The Elephant in a Handkerchief: Said Harakat',), (\"Eza'et Hobb\",), ('La Taragoa Wala Esteslam (El Kabda El Dameyya)',), ('Bonne Soirée',), ('Walad albalad',), ('El Talata Yeshtghalonha',), ('Bolbol Hayran',), ('Sameer, Shaheer & Baheer',), ('Ali Baba',), ('Samy Carbon Oxide',), (\"Mickey's Family\",), ('Ana Badea Ya Wadia',), (\"Alzheimer's\",), ('Hello...Cairo',), ('18 Youm',), ('Fokak Menny',), ('Tek Tek Boom',), ('Game Over',), ('Ghesh El Zawgeya',), ('Dawlat Security',), ('Cima Ali Baba',), ('Helm Aziz',), ('Tom wa Jimmy',), ('Febrayer Al-Aswad',), (\"Hazz Sa'id\",), ('Papa',), ('Mr. and Mrs. Oweis',), (\"Hasal Kh'eer\",), ('White Chocolate',), ('Pantalon Juliet',), ('Esh Al-Bolbol',), ('The Virgin, the Copts and Me',), ('31/12',), ('Al-Anissa Mamy',), ('Kalby Dalily',), ('Mohema Fi Film Adeem',), (\"La Mo'akhza\",), ('February the 30th',), ('Ala Gothety',), ('Sameer Abu Elneel',), (\"Daght A'aly\",), ('Al Hafla',), ('Nazareyet Amity',), ('TaTah',), (\"El Harb El A'lameya El Talta\",), ('Boussy Cat',), ('Such A Reviving Apartment',), ('Hatoli Ragel',), ('Khetet Jimmy',), ('Saeid Claquette',), ('Merati w Zogati',), ('8%',), ('Cairo Drive',), ('Villa 69',), ('Mr. Know It All',), (\"Soni'a Fi Misr\",), ('Salem Abu Okhto',), ('Antar Ibn Ibn Ibn Ibn Shaddad',), ('Zarf Sehhy',), (\"Hasallena Elroa'b\",), ('Al Mahragan',), ('Antar & Beesa',), (\"Giran El Saa'd\",), ('Hamaty Bet-hebbeny',), ('Gawaza Meery',), ('El Dassas',), ('Nashet fi Haraket Eyal',), (\"Eldonia Maa'louba\",), ('Daadoush',), (\"Ma Baad Wada' Hagar Al Asas Le Mashroua' Alhamam Bel Kilo 375\",), (\"Harah Maznua'a\",), ('Al-Mowaten Bors',), ('Omar we Salwa',), ('4 Cotshina',), ('Ott we Far',), ('Betawqit Elqahera',), ('Tampola',), ('The Best is Yet to Come',), ('El Khalbous',), ('Balash Tebosny',), ('Naughty Boys',), ('Yom Malosh Lazma',), ('Halimo, Legend of the Beaches',), ('Zay Oud Al-Kabrit',), (\"Soua' Tafahom\",), ('Captain Masr',), (\"Zana'et Settat\",), ('Eyal Herryfa',), (\"Fazza'\",), ('Sa3yokom Mashkoor Ya Bro',), ('Amod Faqrey',), ('Al-Armouti Fe Ard El-Nar',), ('Satow Mosalath',), ('Oshan 14',), ('Noum Eltalat',), ('Ahwak',), ('Abo Shanab',), ('Phobia',), ('Fas Malh We Dakh',), ('The Fourth Generation',), ('Konghor Hobena',), ('Kedbet Kol Youm',), (\"Hassan Wa Bo'loz\",), ('Al-Meshakhsaty 2',), ('Ta3weza 2',), ('Selah Al-Talamiz',), ('El Bab Yefuwt Amal',), (\"Qesti Beyewga'ni\",), ('Asal Abyad',), ('The American Game',), ('Hamlet Freezer',), ('Kalb Baladi',), ('Samaka Wa Sennara',), ('Gahim Fe El Hend',), ('30 Youm Fi Ezz',), ('Party Fe Harty',), ('Saber Google',), ('Tahet El-Tarabiza',), (\"Talq Sina'iee\",), ('Ashan Khargen',), ('Feen Qalbi',), ('Laf We Dawaran',), ('Titanic: The Arabic Version',), ('Akher Deek Fe Masr',), (\"We're Not Heading Into Trouble\",), ('Shantet Hamza',), ('Bashtery Ragel',), (\"Mamnoo' Al-Ekterab Aw El-Tasweer\",), ('Bank El Hazz',), ('Raghda Motawahesha',), (\"Endama Yaqa' El Insan Fi Mostanqa' Afkaro Fayanahi Bi Al-Amr Ela Al-Mahzala\",), ('3otl fanny',), (\"Yeg'alo 'amer\",), ('Khair W Baraka',), ('Hold Your Position',), ('Sokkar Barra',), ('Omaret Roushdy',), ('Nos Gawaza',), (\"Etla'ooli Barra\",), ('Bath Mobasher',), ('صعيدي في الجامعة الأمريكية 2',), ('Aman Ya Sahabi',), ('Bekia',), ('Nawrt Masr',), ('Doctor Bes Bes',), ('Matryoshka',), ('Hassan Delivery',), ('Khalawees',), ('El Badla',), ('Yomeddine',), ('Gedo Nahnoh',), ('Qarmat Bitamrmat',), ('رمسة كريم\\u200e',), ('Torbal Rayeh Jayy',), ('The Titans',), ('Saeat Reda',), ('Is It Chemistry؟',), ('Singers About Food',), ('El Kowayeseen',), ('Qalb Ommoh',), ('Lelyt Hana w Sorour',), ('Nadi El-Regal El-Serri',), ('Eish Hayatak',), ('AL-Abla Tamtam',), ('Kedba Bidaa (Masricani)',), ('Wezo School',), (\"We're Sorry, Sir\",), ('The Most Dangerous Man',), (\"Taslim 'ahali\",), ('Qesat Hob',), ('Mohamed Hussein',), ('Lees Baghdad',), ('Estedaa Wale Amr',), ('Parking',), ('Akhenaten Fi Marrakech',), (\"Sab'e Alboromba\",), ('The Demon',), ('Khassesny shokran',), (\"Khayaal Ma'atah\",), ('The Chocolate Rascals',), ('Anta Habiby We Bas',), ('King Size',), ('El Tayeb We Elshares We Elaoob',), ('Enta Eih',), ('Banat Sanawy',), ('Al-Ghasala',), ('Saber w Rady',), ('The Hook-up',), ('Afreet Transit',), ('3 in Trouble',), ('El Khetta El Aayma',))\n"
     ]
    }
   ],
   "source": [
    "find_movies_of_a_specific_genre(\"Comedy\")"
   ]
  },
  {
   "cell_type": "code",
   "execution_count": 132,
   "metadata": {},
   "outputs": [
    {
     "name": "stdout",
     "output_type": "stream",
     "text": [
      "Connected\n",
      "(['Hasan Al-Raddad', 'Ana Badea Ya Wadia', '90', datetime.date(2011, 8, 30), None], ['Hasan Al-Raddad', 'My Brother the Devil', '111', datetime.date(2012, 11, 9), None], ['Hasan Al-Raddad', 'Al-Anissa Mamy', '100', datetime.date(2012, 10, 24), None], ['Hasan Al-Raddad', 'Nazareyet Amity', '109', datetime.date(2013, 8, 7), None], ['Hasan Al-Raddad', 'Antar & Beesa', '90', datetime.date(2014, 7, 28), None], ['Hasan Al-Raddad', 'أهل العيب', None, None, None], ['Hasan Al-Raddad', 'Noum Eltalat', '96', datetime.date(2015, 7, 16), None], ['Hasan Al-Raddad', 'Akhdar Yabis', '73', datetime.date(2017, 10, 25), None], ['Hasan Al-Raddad', \"Al-Khawaga's Dilemma\", '110', datetime.date(2018, 1, 6), 'A father who had big dreams for his three children, returns after many years, only to find them living a different life from what he had envisioned. As the three brothers get involved in a terrorist operation, they try to stop it with the help of a group of girls.'], ['Hasan Al-Raddad', 'El Badla', '96', datetime.date(2018, 8, 20), None], ['Hasan Al-Raddad', 'Saeat Reda', '33', datetime.date(2019, 1, 9), None], ['Hasan Al-Raddad', 'Singers About Food', None, None, None], ['Hasan Al-Raddad', 'Mako', None, None, 'The film tackles cybercrime through the story of Younis, a man who lives with his wife and their baby girl, as he decides to rob a bank through the internet, but then finds himself chased by a dangerous gang.'])\n"
     ]
    }
   ],
   "source": [
    "find_movies_of_a_cast_member_by_id(\"1100178\")"
   ]
  },
  {
   "cell_type": "code",
   "execution_count": 112,
   "metadata": {},
   "outputs": [
    {
     "name": "stdout",
     "output_type": "stream",
     "text": [
      "Connected\n",
      "(['Ahmed Helmy', 'X Large', '130', datetime.date(2011, 11, 2), None], ['Ahmed Helmy', 'Assal Eswed', '130', datetime.date(2010, 5, 25), None], ['Ahmed Helmy', 'Bolbol Hayran', '82', datetime.date(2010, 11, 11), 'The film tells the story of a female police officer who faces sexual harassment and decides to fight this widespread phenomenon. She is assigned to arrest sexual harassers in public places.'], ['Ahmed Helmy', '18 Youm', '125', datetime.date(2011, 5, 19), 'In the midst of the chaos of Egypt’s Arab Spring, filmmaker Nada Riyadh falls in love with Ayman. The initial euphoria makes way for doubt, anxiety and blame – a metaphor for the disappointing trajectory of events in Egypt. When Ayman decides to leave the country because of the deteriorating social and political conditions, she does everything she can to convince him to stay. The escalating tension puts her own commitment to remain in the country to the test.'], ['Ahmed Helmy', 'روليت', None, None, None], ['Ahmed Helmy', 'Saeid Claquette', '90', datetime.date(2014, 1, 29), None], ['Ahmed Helmy', \"Soni'a Fi Misr\", '102', datetime.date(2014, 7, 28), None], ['Ahmed Helmy', 'Al-Meshakhsaty 2', '95', datetime.date(2016, 2, 17), None], ['Ahmed Helmy', 'Tofahet Hawa', '70', datetime.date(2016, 7, 20), None], ['Ahmed Helmy', 'Horob Edterary', '103', datetime.date(2017, 6, 25), None], ['Ahmed Helmy', 'Laf We Dawaran', '101', datetime.date(2016, 9, 11), 'Youssef, a successful engineer, loses his sight in a terrible accident, and he crosses paths with Gamila. As the two start developing feelings for one another, their love is tested.'], ['Ahmed Helmy', \"Khayaal Ma'atah\", '126', datetime.date(2019, 8, 12), 'The story of the Arab knight Muhammad Bin Qasim Al-Thaqafi who rescued many women and children from pirates in the Indian Ocean. He entered a fierce war against King Dahr who was sharing the spoils with the pirates, with the help of his friend Ziad and his mentor Abu Al-Asud.'])\n"
     ]
    }
   ],
   "source": [
    "find_movies_of_a_cast_member_by_name(\"Ahmed Helmy\")"
   ]
  },
  {
   "cell_type": "code",
   "execution_count": 130,
   "metadata": {},
   "outputs": [
    {
     "name": "stdout",
     "output_type": "stream",
     "text": [
      "Connected\n"
     ]
    }
   ],
   "source": [
    "add_user(\"mai@hotmail.com\", \"mai_11\", \"F\", datetime.datetime(2000, 2, 12).date())"
   ]
  },
  {
   "cell_type": "code",
   "execution_count": 136,
   "metadata": {},
   "outputs": [
    {
     "name": "stdout",
     "output_type": "stream",
     "text": [
      "Connected\n"
     ]
    }
   ],
   "source": [
    "add_review_by_movie_id(\"mai@hotmail.com\", \"1644198\", \"Liked el sakka\")"
   ]
  },
  {
   "cell_type": "code",
   "execution_count": 141,
   "metadata": {},
   "outputs": [
    {
     "name": "stdout",
     "output_type": "stream",
     "text": [
      "Connected\n"
     ]
    }
   ],
   "source": [
    "add_review_by_movie_name(\"mai@hotmail.com\", \"X Large\", \"great from Helmy\")"
   ]
  },
  {
   "cell_type": "code",
   "execution_count": 153,
   "metadata": {},
   "outputs": [
    {
     "name": "stdout",
     "output_type": "stream",
     "text": [
      "Connected\n",
      "['Al-Maslaha', 'mai@hotmail.com', 'Liked el sakka']\n"
     ]
    }
   ],
   "source": [
    "check_review_by_movie_id(\"1644198\")"
   ]
  },
  {
   "cell_type": "code",
   "execution_count": 161,
   "metadata": {},
   "outputs": [
    {
     "name": "stdout",
     "output_type": "stream",
     "text": [
      "Connected\n",
      "['X Large', 'mai@hotmail.com', 'great from Helmy']\n"
     ]
    }
   ],
   "source": [
    "check_review_by_movie_name(\"X Large\")"
   ]
  }
 ],
 "metadata": {
  "kernelspec": {
   "display_name": "Python 3",
   "language": "python",
   "name": "python3"
  },
  "language_info": {
   "codemirror_mode": {
    "name": "ipython",
    "version": 3
   },
   "file_extension": ".py",
   "mimetype": "text/x-python",
   "name": "python",
   "nbconvert_exporter": "python",
   "pygments_lexer": "ipython3",
   "version": "3.7.4"
  }
 },
 "nbformat": 4,
 "nbformat_minor": 2
}
